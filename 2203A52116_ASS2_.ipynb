{
  "nbformat": 4,
  "nbformat_minor": 0,
  "metadata": {
    "colab": {
      "provenance": []
    },
    "kernelspec": {
      "name": "python3",
      "display_name": "Python 3"
    },
    "language_info": {
      "name": "python"
    }
  },
  "cells": [
    {
      "cell_type": "code",
      "source": [
        "import collections\n",
        "def bfs(graph, start):\n",
        "  visited = set()\n",
        "  queue = collections.deque([start])\n",
        "  visited.add(start)\n",
        "  while queue:\n",
        "    node = queue.popleft()\n",
        "    print(node, end=\" \")\n",
        "    neighbours = graph[node]\n",
        "    for neighbour in neighbours:\n",
        "      if neighbour not in visited:\n",
        "        visited.add(neighbour)\n",
        "        queue.append(neighbour)\n",
        "graph = {\n",
        "  0: [1],\n",
        "  1: [0, 2, 3],\n",
        "  2: [1, 5],\n",
        "  3: [1, 4],\n",
        "  4: [3, 5],\n",
        "  5: [2, 4]\n",
        "}\n",
        "bfs(graph, 1)"
      ],
      "metadata": {
        "colab": {
          "base_uri": "https://localhost:8080/"
        },
        "id": "WdLqg-ETWZmc",
        "outputId": "a4dc03be-edbf-4be5-d833-ccd4ecc4e597"
      },
      "execution_count": 19,
      "outputs": [
        {
          "output_type": "stream",
          "name": "stdout",
          "text": [
            "1 0 2 3 5 4 "
          ]
        }
      ]
    },
    {
      "cell_type": "code",
      "source": [
        "import collections\n",
        "def dfs(graph, start):\n",
        "  visited = set()\n",
        "  stack = collections.deque([start])\n",
        "  visited.add(start)\n",
        "  while stack:\n",
        "    node = stack.pop()\n",
        "    print(node, end=\" \")\n",
        "    neighbours = graph[node]\n",
        "    for neighbour in neighbours:\n",
        "      if neighbour not in visited:\n",
        "        visited.add(neighbour)\n",
        "        stack.append(neighbour)\n",
        "graph = {\n",
        "  \"S\": [\"A\", \"C\", \"G\"],\n",
        "  \"A\": [\"B\"],\n",
        "  \"B\": [],\n",
        "  \"C\": [\"D\", \"F\"],\n",
        "  \"D\": [],\n",
        "  \"E\": [],\n",
        "  \"F\": [\"E\", \"H\"],\n",
        "  \"G\": [],\n",
        "  \"H\": []\n",
        "}\n",
        "dfs(graph, \"S\")"
      ],
      "metadata": {
        "colab": {
          "base_uri": "https://localhost:8080/"
        },
        "id": "pMIVr2a8YTGL",
        "outputId": "67615f8e-28b1-436f-ac10-412424e268f4"
      },
      "execution_count": 23,
      "outputs": [
        {
          "output_type": "stream",
          "name": "stdout",
          "text": [
            "S G C F H E D A B "
          ]
        }
      ]
    },
    {
      "cell_type": "code",
      "source": [],
      "metadata": {
        "id": "Uz7ge-TCYZ9R"
      },
      "execution_count": null,
      "outputs": []
    }
  ]
}