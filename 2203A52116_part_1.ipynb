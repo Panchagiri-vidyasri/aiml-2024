{
  "nbformat": 4,
  "nbformat_minor": 0,
  "metadata": {
    "colab": {
      "provenance": []
    },
    "kernelspec": {
      "name": "python3",
      "display_name": "Python 3"
    },
    "language_info": {
      "name": "python"
    }
  },
  "cells": [
    {
      "cell_type": "markdown",
      "source": [
        "part1\n",
        "\n",
        "1st,2nd,3rd question"
      ],
      "metadata": {
        "id": "fant_BOCNtkN"
      }
    },
    {
      "cell_type": "code",
      "execution_count": 35,
      "metadata": {
        "colab": {
          "base_uri": "https://localhost:8080/"
        },
        "id": "_H-eCXGmEhXu",
        "outputId": "b2c1c8de-d686-4a9e-e49b-0696d253e106"
      },
      "outputs": [
        {
          "output_type": "stream",
          "name": "stdout",
          "text": [
            "list1 [1, 2, 3]\n",
            "n1 [1 2 3]\n",
            "type= <class 'numpy.ndarray'>\n",
            "type= <class 'list'>\n"
          ]
        }
      ],
      "source": [
        "import numpy as np\n",
        "list1=[1,2,3]\n",
        "n1=np.array(list1)\n",
        "print(\"list1\",list1)\n",
        "print(\"n1\",n1)\n",
        "print(\"type=\",type(n1))\n",
        "print(\"type=\",type(list1))"
      ]
    },
    {
      "cell_type": "markdown",
      "source": [
        "# 4th question\n"
      ],
      "metadata": {
        "id": "m0rv8IOtN1pK"
      }
    },
    {
      "cell_type": "code",
      "source": [
        "\n",
        "import numpy as np\n",
        "arr1=(11,22,33,44)\n",
        "arr2=(11,22,33,44)\n",
        "mul=np.multiply(arr1,arr2)\n",
        "print(mul)\n",
        "div=np.divide(arr1,arr2)\n",
        "print(div)\n",
        "pow=np.power(arr1,arr2)\n",
        "print(pow)"
      ],
      "metadata": {
        "colab": {
          "base_uri": "https://localhost:8080/"
        },
        "id": "gZDvlD0zIMq9",
        "outputId": "9f43f6c4-871b-4302-d0e1-773a1c0e83b8"
      },
      "execution_count": 36,
      "outputs": [
        {
          "output_type": "stream",
          "name": "stdout",
          "text": [
            "[ 121  484 1089 1936]\n",
            "[1. 1. 1. 1.]\n",
            "[        285311670611  4981753131911086080 -4053175462519618527\n",
            "                    0]\n"
          ]
        }
      ]
    },
    {
      "cell_type": "markdown",
      "source": [
        "5th question\n"
      ],
      "metadata": {
        "id": "GeRfj0phN_Ik"
      }
    },
    {
      "cell_type": "code",
      "source": [
        "data1 = np.array([2, 4, 6, 8, 10])\n",
        "data2 =np.array( [1, 2, 3, 4, 5])\n",
        "print(\"addition of two array:\",data1+data2)"
      ],
      "metadata": {
        "id": "8viZk2GDRsZj"
      },
      "execution_count": null,
      "outputs": []
    },
    {
      "cell_type": "markdown",
      "source": [
        "6th question\n"
      ],
      "metadata": {
        "id": "o-hm3P3aOBq1"
      }
    },
    {
      "cell_type": "code",
      "source": [
        "print(np.sin(list1))\n",
        "print(np.log(list1))\n",
        "print(np.log2(list1))\n",
        "print(np.exp(list1))\n"
      ],
      "metadata": {
        "colab": {
          "base_uri": "https://localhost:8080/"
        },
        "id": "9mtPLXPULEJA",
        "outputId": "3f177e37-c812-45f3-aa4b-187f004f9004"
      },
      "execution_count": 25,
      "outputs": [
        {
          "output_type": "stream",
          "name": "stdout",
          "text": [
            "[ 0.90929743 -0.7568025  -0.2794155   0.98935825 -0.54402111]\n",
            "[0.69314718 1.38629436 1.79175947 2.07944154 2.30258509]\n",
            "[1.         2.         2.5849625  3.         3.32192809]\n",
            "[7.38905610e+00 5.45981500e+01 4.03428793e+02 2.98095799e+03\n",
            " 2.20264658e+04]\n"
          ]
        }
      ]
    }
  ]
}